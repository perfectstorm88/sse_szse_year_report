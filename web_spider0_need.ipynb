{
 "cells": [
  {
   "cell_type": "code",
   "execution_count": null,
   "metadata": {},
   "outputs": [],
   "source": [
    "\"\"\"\n",
    "根据研究数据_out.xlsx，生成 pdf_need.json，这是需要的年报列表\n",
    "\"\"\""
   ]
  },
  {
   "cell_type": "code",
   "execution_count": 2,
   "metadata": {},
   "outputs": [],
   "source": [
    "#!jupyter nbconvert --to script web_spider_sina.ipynb\n",
    "import os\n",
    "import pandas as pd\n",
    "import re\n",
    "from tqdm import tqdm\n",
    "df1 = pd.read_excel('研究数据_out.xlsx',index_col=0,\n",
    "            dtype={'Stkcd': str})\n",
    "df1.head()\n",
    "\n",
    "\n",
    "import sys\n",
    "YEAR = 'all'\n",
    "if sys.argv[0].find(\"ipykernel_launcher.py\")<=0:\n",
    "    if len(sys.argv)>=2:\n",
    "        YEAR = sys.argv[1]"
   ]
  },
  {
   "cell_type": "code",
   "execution_count": 3,
   "metadata": {},
   "outputs": [
    {
     "name": "stdout",
     "output_type": "stream",
     "text": [
      "code_year_list= 30555 30555\n"
     ]
    }
   ],
   "source": [
    "df2 = df1[['Symbol','EndDate']] \n",
    "df2.head()\n",
    "df2[1:].head()  # https://datacarpentry.org/python-ecology-lesson/03-index-slice-subset/index.html\n",
    "code_year_list = []\n",
    "import re\n",
    "reg_year = re.compile('\\d{4}')\n",
    "for i in range(1, len(df2)): # 第一行跳过\n",
    "    if reg_year.match(df2.iloc[i]['EndDate']):\n",
    "        code_year_list.append(df2.iloc[i]['Symbol']+'_'+df2.iloc[i]['EndDate'][:4])\n",
    "    else:\n",
    "        print(df2.iloc[i]['Symbol'], df2.iloc[i]['EndDate'])\n",
    "        \n",
    "# 构造为map\n",
    "code_year_map = {}\n",
    "for k in code_year_list:\n",
    "    code_year_map[k]= []\n",
    "print('code_year_list=',len(code_year_list),len(code_year_map.keys()))"
   ]
  },
  {
   "cell_type": "code",
   "execution_count": 5,
   "metadata": {},
   "outputs": [],
   "source": [
    "import json\n",
    "with open('pdf_need.json','w') as json_file:  \n",
    "    json.dump(code_year_map,json_file, sort_keys=True, indent=2)"
   ]
  }
 ],
 "metadata": {
  "kernelspec": {
   "display_name": "Python 3",
   "language": "python",
   "name": "python3"
  },
  "language_info": {
   "codemirror_mode": {
    "name": "ipython",
    "version": 3
   },
   "file_extension": ".py",
   "mimetype": "text/x-python",
   "name": "python",
   "nbconvert_exporter": "python",
   "pygments_lexer": "ipython3",
   "version": "3.7.3"
  }
 },
 "nbformat": 4,
 "nbformat_minor": 2
}
