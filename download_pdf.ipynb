{
 "cells": [
  {
   "cell_type": "markdown",
   "metadata": {},
   "source": [
    "从两个渠道下载上市公司年报\n",
    "\n",
    "# 深交所和上交所股票代码的区别\n",
    ">股票代码用数字表示股票的不同含义。股票代码除了区分各种股票，也有其潜在的意义。沪市股票买卖的代码是以600或601打头，如：运盛实业：股票代码是600股票代码767。中国国航：股票代码是601111。B股买卖的代码是以900打头，如：上电B股：代码是900901。深市A股票买卖的代码是以000打头，如：顺鑫农业：股票代码是000860。B股买卖的代码是以200打头，如：深中冠B股，代码是200018。\n",
    "\n",
    ">沪市新股申购的代码是以730打头。如：中信证券：申购的代码是730030。深市新股申购的代码与深市股票买卖代码一样，如：中信证券在深市市值配售代码是003030。配股代码，沪市以700打头，深市以080打头。如：运盛实业配股代码是700767。深市草原兴发配股代码是080780。中小板股票代码以002打头，如：东华合创股票代码是002065。创业板股票代码以300打头，如：探路者股票代码是：300005\n",
    "\n",
    "\n",
    "# 深圳证券交易所：\n",
    "http://www.szse.cn/disclosure/listed/notice/index.html\n",
    "\n",
    "\n",
    "# 上海深圳交易所\n",
    "http://www.sse.com.cn/disclosure/listedinfo/announcement/\n",
    "\n",
    "\n",
    "\n"
   ]
  },
  {
   "cell_type": "code",
   "execution_count": 100,
   "metadata": {},
   "outputs": [],
   "source": [
    "import requests\n",
    "import re\n",
    "def get_url_by_code_szse(code):\n",
    "    download_url_prefix = 'http://disc.static.szse.cn/download'\n",
    "    \n",
    "    url = 'http://www.szse.cn/api/disc/announcement/annList'\n",
    "    payload = {\"seDate\":[\"\",\"\"],\"stock\":[\"000001\"],\"channelCode\":[\"listedNotice_disc\"],\"bigCategoryId\":[\"010301\"],\"pageSize\":30,\"pageNum\":1}\n",
    "    headers = {'content-type': 'application/json',\n",
    "              'Host': 'www.szse.cn',\n",
    "    'Origin': 'http://www.szse.cn',\n",
    "    'Referer': 'http://www.szse.cn/disclosure/listed/notice/index.html',\n",
    "    'User-Agent': 'Mozilla/5.0 (Macintosh; Intel Mac OS X 10_13_5) AppleWebKit/537.36 (KHTML, like Gecko) Chrome/73.0.3683.103 Safari/537.36'      \n",
    "              }\n",
    "    payload['stock']=[code]\n",
    "    payload['pageNum']=1\n",
    "    r = requests.post(url, json=payload)\n",
    "    ret = r.json()\n",
    "    count = ret['announceCount']\n",
    "    data_list = ret['data']\n",
    "    # 由于限制是30每页，总数超过30，要第二次请求\n",
    "    if(count>30):\n",
    "        payload['pageNum']=2\n",
    "        r = requests.post(url, json=payload)\n",
    "        ret = r.json()\n",
    "        data_list.extend(ret['data'])\n",
    "        \n",
    "    year_report_map={}\n",
    "    for d in data_list:\n",
    "        fileName = d['title']\n",
    "        if(fileName.endswith('摘要')):\n",
    "            continue\n",
    "        if(not(fileName.endswith('年报') or fileName.endswith('年度报告'))):\n",
    "            continue\n",
    "        year = re.findall('\\d{4}',fileName)[0]\n",
    "        year_report_map[year]=download_url_prefix+d['attachPath']\n",
    "        print(d['secName'][0],d['title'],d['attachPath'])\n",
    "    return year_report_map\n",
    "\n",
    "\n",
    "get_url_by_code_szse('000002')\n",
    "        "
   ]
  },
  {
   "cell_type": "code",
   "execution_count": null,
   "metadata": {},
   "outputs": [],
   "source": [
    "\n",
    "\n",
    "\n",
    "\n"
   ]
  },
  {
   "cell_type": "code",
   "execution_count": 90,
   "metadata": {
    "collapsed": true
   },
   "outputs": [],
   "source": []
  },
  {
   "cell_type": "code",
   "execution_count": 106,
   "metadata": {},
   "outputs": [
    {
     "name": "stdout",
     "output_type": "stream",
     "text": [
      "2004 国电电力年报 /disclosure/listedinfo/announcement/c/2005-03-03/600795_2004_n.pdf\n",
      "2003 国电电力年报 /disclosure/listedinfo/announcement/c/2004-02-24/600795_2003_n.pdf\n",
      "2007 国电电力年报 /disclosure/listedinfo/announcement/c/2008-02-05/600795_2007_n.pdf\n",
      "2006 国电电力年报 /disclosure/listedinfo/announcement/c/2007-03-08/600795_2006_n.pdf\n",
      "2005 国电电力年报 /disclosure/listedinfo/announcement/c/2006-04-08/600795_2005_n.pdf\n",
      "2010 国电电力年报 /disclosure/listedinfo/announcement/c/2011-03-31/600795_2010_n.pdf\n",
      "2009 国电电力年报 /disclosure/listedinfo/announcement/c/2010-03-31/600795_2009_n.pdf\n",
      "2008 国电电力年报 /disclosure/listedinfo/announcement/c/2009-04-18/600795_2008_n.pdf\n",
      "2013 国电电力年报 /disclosure/listedinfo/announcement/c/2014-03-24/600795_2013_n.pdf\n",
      "2012 国电电力年报 /disclosure/listedinfo/announcement/c/2013-03-29/600795_2012_n.pdf\n",
      "2011 国电电力年报 /disclosure/listedinfo/announcement/c/2012-03-30/600795_2011_n.pdf\n",
      "2016 国电电力2016年年度报告 /disclosure/listedinfo/announcement/c/2017-04-11/600795_2016_n.pdf\n",
      "2015 国电电力年报 /disclosure/listedinfo/announcement/c/2016-04-12/600795_2015_n.pdf\n",
      "2014 国电电力年报 /disclosure/listedinfo/announcement/c/2015-03-30/600795_2014_n.pdf\n",
      "2017 国电电力2017年年度报告 /disclosure/listedinfo/announcement/c/2018-04-17/600795_2017_n.pdf\n"
     ]
    },
    {
     "data": {
      "text/plain": [
       "{'2003': 'http://www.sse.com.cn/disclosure/listedinfo/announcement/c/2004-02-24/600795_2003_n.pdf',\n",
       " '2004': 'http://www.sse.com.cn/disclosure/listedinfo/announcement/c/2005-03-03/600795_2004_n.pdf',\n",
       " '2005': 'http://www.sse.com.cn/disclosure/listedinfo/announcement/c/2006-04-08/600795_2005_n.pdf',\n",
       " '2006': 'http://www.sse.com.cn/disclosure/listedinfo/announcement/c/2007-03-08/600795_2006_n.pdf',\n",
       " '2007': 'http://www.sse.com.cn/disclosure/listedinfo/announcement/c/2008-02-05/600795_2007_n.pdf',\n",
       " '2008': 'http://www.sse.com.cn/disclosure/listedinfo/announcement/c/2009-04-18/600795_2008_n.pdf',\n",
       " '2009': 'http://www.sse.com.cn/disclosure/listedinfo/announcement/c/2010-03-31/600795_2009_n.pdf',\n",
       " '2010': 'http://www.sse.com.cn/disclosure/listedinfo/announcement/c/2011-03-31/600795_2010_n.pdf',\n",
       " '2011': 'http://www.sse.com.cn/disclosure/listedinfo/announcement/c/2012-03-30/600795_2011_n.pdf',\n",
       " '2012': 'http://www.sse.com.cn/disclosure/listedinfo/announcement/c/2013-03-29/600795_2012_n.pdf',\n",
       " '2013': 'http://www.sse.com.cn/disclosure/listedinfo/announcement/c/2014-03-24/600795_2013_n.pdf',\n",
       " '2014': 'http://www.sse.com.cn/disclosure/listedinfo/announcement/c/2015-03-30/600795_2014_n.pdf',\n",
       " '2015': 'http://www.sse.com.cn/disclosure/listedinfo/announcement/c/2016-04-12/600795_2015_n.pdf',\n",
       " '2016': 'http://www.sse.com.cn/disclosure/listedinfo/announcement/c/2017-04-11/600795_2016_n.pdf',\n",
       " '2017': 'http://www.sse.com.cn/disclosure/listedinfo/announcement/c/2018-04-17/600795_2017_n.pdf'}"
      ]
     },
     "execution_count": 106,
     "metadata": {},
     "output_type": "execute_result"
    }
   ],
   "source": [
    "from datetime import datetime,timedelta\n",
    "# 上海证券交易所\n",
    "def get_url_by_code_sse(code):\n",
    "    url = 'http://query.sse.com.cn/security/stock/queryCompanyStatementNew.do'\n",
    "    params={\n",
    "        'jsonCallBack': 'jsonpCallback59529',\n",
    "        'isPagination': 'true',\n",
    "        'productId': '600795',\n",
    "        'keyWord': '',\n",
    "        'isNew': '1',\n",
    "        'reportType2': 'DQBG',\n",
    "        'reportType': 'YEARLY',\n",
    "        'beginDate': '2002-04-13',\n",
    "        'endDate': '2019-04-13',\n",
    "        'pageHelp.pageSize': 25,\n",
    "        'pageHelp.pageCount': 50,\n",
    "        'pageHelp.pageNo': 1,\n",
    "        'pageHelp.beginPage': 1,\n",
    "        'pageHelp.cacheSize': 1,\n",
    "        'pageHelp.endPage': 5,\n",
    "        '_': 1555167217524\n",
    "    }\n",
    "    headers = {'Referer': 'http://www.sse.com.cn/disclosure/listedinfo/announcement/',\n",
    "    'User-Agent': 'Mozilla/5.0 (Macintosh; Intel Mac OS X 10_13_5) AppleWebKit/537.36 (KHTML, like Gecko) Chrome/73.0.3683.103 Safari/537.36'}\n",
    "    data_list = []\n",
    "    params['productId']=code\n",
    "    beginDate=datetime.strptime('2003-01-01','%Y-%m-%d')\n",
    "    _endDate= datetime.now()\n",
    "    _3years = timedelta(days=365*3)\n",
    "    while beginDate< _endDate:\n",
    "        params['beginDate']=beginDate.strftime('%Y-%m-%d')\n",
    "        beginDate += _3years\n",
    "        params['endDate']=beginDate.strftime('%Y-%m-%d')\n",
    "        r = requests.get(url,headers=headers,params=params)\n",
    "        json_str = r.text[r.text.index('(')+1:-1]\n",
    "        json_obj = json.loads(json_str)\n",
    "        data_list.extend(json_obj['result'])\n",
    "\n",
    "\n",
    "    year_report_map={}\n",
    "    for d in data_list:\n",
    "        fileName = d['title']\n",
    "        if(fileName.endswith('摘要')):\n",
    "            continue\n",
    "        if(not(fileName.endswith('年报') or fileName.endswith('年度报告'))):\n",
    "            continue\n",
    "        print(d['bulletin_Year'],d['title'],d['URL'])\n",
    "        year_report_map[d['bulletin_Year']]='http://www.sse.com.cn'+d['URL']\n",
    "        \n",
    "    return year_report_map\n",
    "\n",
    "\n",
    "get_url_by_code_sse('600795')"
   ]
  },
  {
   "cell_type": "code",
   "execution_count": 109,
   "metadata": {},
   "outputs": [
    {
     "name": "stdout",
     "output_type": "stream",
     "text": [
      "b'/Users/lcz/anaconda3/bin/pdf2txt.py\\n'\n"
     ]
    }
   ],
   "source": [
    "url = 'http://www.sse.com.cn/disclosure/listedinfo/announcement/c/2010-03-31/600795_2009_n.pdf'\n",
    "r = requests.get(url, stream=True)\n",
    "\n",
    "filename = './600795_2009.pdf';\n",
    "with open(filename, 'wb') as fd:\n",
    "    for chunk in r.iter_content(chunk_size=102400):\n",
    "        fd.write(chunk)\n",
    "        \n",
    "import subprocess\n",
    "try:\n",
    "    out_bytes = subprocess.check_output(['which','pdf2txt.py'])\n",
    "    print(out_bytes)\n",
    "    pdf2txt=out_bytes.decode(\"utf-8\").replace('\\n','')\n",
    "    subprocess.run([\"python\", pdf2txt, \"-o\",filename.replace('pdf','txt') ,filename])\n",
    "except subprocess.CalledProcessError as e:\n",
    "    out_bytes = e.output       # Output generated before error\n",
    "    code      = e.returncode   # Return code\n",
    "    \n",
    "\n"
   ]
  }
 ],
 "metadata": {
  "kernelspec": {
   "display_name": "Python 3",
   "language": "python",
   "name": "python3"
  },
  "language_info": {
   "codemirror_mode": {
    "name": "ipython",
    "version": 3
   },
   "file_extension": ".py",
   "mimetype": "text/x-python",
   "name": "python",
   "nbconvert_exporter": "python",
   "pygments_lexer": "ipython3",
   "version": "3.6.1"
  }
 },
 "nbformat": 4,
 "nbformat_minor": 2
}
