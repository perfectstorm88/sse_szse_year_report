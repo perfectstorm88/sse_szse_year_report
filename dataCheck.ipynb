{
 "cells": [
  {
   "cell_type": "code",
   "execution_count": 13,
   "metadata": {
    "collapsed": true
   },
   "outputs": [],
   "source": [
    "import os\n",
    "import pandas as pd\n",
    "f= './out/数据整理190403.xlsx'\n",
    "df = pd.read_excel(f)\n",
    "\n",
    "# df.to_dict('records')\n",
    "# df[0]"
   ]
  },
  {
   "cell_type": "code",
   "execution_count": 14,
   "metadata": {},
   "outputs": [
    {
     "data": {
      "text/plain": [
       "{'Area': nan,\n",
       " 'Conme': nan,\n",
       " 'Empnum': nan,\n",
       " 'EndDate': '2017-12-31',\n",
       " 'IntangibleAsset': 4701000000,\n",
       " 'Listdt': nan,\n",
       " 'Listexg': nan,\n",
       " 'NetProfit': 23189000000,\n",
       " 'Nindcd': nan,\n",
       " 'Nshld': nan,\n",
       " 'Nshremp': 0,\n",
       " 'Nshrsms': 23866,\n",
       " 'Nshrstt': 0,\n",
       " 'Nshrttl': 17170411366,\n",
       " 'OperationProfit': 30223000000,\n",
       " 'Primed': nan,\n",
       " 'Province': nan,\n",
       " 'RDPersonRatio': nan,\n",
       " 'RDSpendSumRatio': nan,\n",
       " 'Rat_SO': 0,\n",
       " 'Stknme': nan,\n",
       " 'Symbol': '000001',\n",
       " 'TotalAssets': 3248474000000,\n",
       " 'TotalLiability': 3026420000000,\n",
       " 'Ucpd': nan,\n",
       " 'Ucsbg': nan,\n",
       " 'Ucscm': nan,\n",
       " 'Ucsvr': nan}"
      ]
     },
     "execution_count": 14,
     "metadata": {},
     "output_type": "execute_result"
    }
   ],
   "source": [
    "a=df.to_dict('records')\n",
    "a[0]"
   ]
  },
  {
   "cell_type": "code",
   "execution_count": 27,
   "metadata": {},
   "outputs": [
    {
     "name": "stdout",
     "output_type": "stream",
     "text": [
      "没有单位' 没有单位\n",
      "证券代码' 统计截止\n",
      "000527 []\n",
      "000748 ['2015']\n",
      "000916 ['2016', '2015']\n",
      "200770 []\n",
      "600001 []\n",
      "600002 []\n",
      "600003 []\n",
      "600005 ['2015']\n",
      "600656 ['2015']\n",
      "601268 []\n",
      "601299 []\n",
      "900935 ['2015']\n",
      "900949 []\n",
      "900950 []\n"
     ]
    }
   ],
   "source": [
    "idWithYear={}\n",
    "import re\n",
    "for x in a:\n",
    "    _id,year = x['Symbol'],x['EndDate'][0:4]\n",
    "    if _id not in idWithYear:\n",
    "        idWithYear[_id]=[]\n",
    "    if year in ['2016','2017','2015']:\n",
    "        idWithYear[_id].append(year)\n",
    "    if not(re.match('\\d{6}', _id) and re.match('\\d{4}-\\d{2}-\\d{2}',x['EndDate'])):\n",
    "        print(_id,year);\n",
    "deletedList = []\n",
    "\n",
    "\n",
    "for (k,v) in  idWithYear.items(): \n",
    "    if len(v)<3:\n",
    "        if re.match('\\d', k):\n",
    "            deletedList.append(k)\n",
    "            print(k,v)\n",
    "\n"
   ]
  },
  {
   "cell_type": "code",
   "execution_count": 24,
   "metadata": {},
   "outputs": [
    {
     "data": {
      "text/plain": [
       "EndDate\n",
       "2003-12-31    1201\n",
       "2004-12-31    1299\n",
       "2005-12-31    1312\n",
       "2006-12-31    1398\n",
       "2007-12-31    1525\n",
       "2008-12-31    1580\n",
       "2009-12-31    1736\n",
       "2010-12-31    2093\n",
       "2011-12-31    2332\n",
       "2012-12-31    2463\n",
       "2013-12-31    2511\n",
       "2014-12-31    2629\n",
       "2015-12-31    2823\n",
       "2016-12-31    2822\n",
       "2017-12-31    2822\n",
       "没有单位'            1\n",
       "统计截止日期'          1\n",
       "dtype: int64"
      ]
     },
     "execution_count": 24,
     "metadata": {},
     "output_type": "execute_result"
    }
   ],
   "source": [
    "df1 = df[~df[\"Symbol\"].isin(deletedList)]\n",
    "df1.groupby(['EndDate']).size()\n",
    "\n",
    "# "
   ]
  },
  {
   "cell_type": "code",
   "execution_count": 41,
   "metadata": {},
   "outputs": [],
   "source": [
    "grouped = df1.groupby(['EndDate'])\n",
    "g_2015= grouped.get_group('2015-12-31')\n",
    "g_2016= grouped.get_group('2016-12-31')\n"
   ]
  },
  {
   "cell_type": "code",
   "execution_count": 49,
   "metadata": {},
   "outputs": [
    {
     "name": "stdout",
     "output_type": "stream",
     "text": [
      "2822 2822\n",
      "2823 2822\n"
     ]
    }
   ],
   "source": [
    "g_2015.columns\n",
    "d_2016 = g_2016['Symbol'].tolist()\n",
    "d_2015 = g_2015['Symbol'].tolist()\n",
    "print(len(d_2016),len(set(d_2016)))\n",
    "\n",
    "print(len(d_2015),len(set(d_2015)))\n",
    "# print(set(d_2015)-(set(d_2016))\n",
    "df1 = df1.sort_values(by=['Symbol', 'EndDate'])\n",
    "df1.to_excel(f'./out/去掉近三年数据不全的公司.xlsx')\n"
   ]
  },
  {
   "cell_type": "code",
   "execution_count": 50,
   "metadata": {},
   "outputs": [
    {
     "data": {
      "text/plain": [
       "EndDate\n",
       "2003-12-31    1201\n",
       "2004-12-31    1299\n",
       "2005-12-31    1312\n",
       "2006-12-31    1398\n",
       "2007-12-31    1525\n",
       "2008-12-31    1580\n",
       "2009-12-31    1736\n",
       "2010-12-31    2093\n",
       "2011-12-31    2332\n",
       "2012-12-31    2463\n",
       "2013-12-31    2511\n",
       "2014-12-31    2629\n",
       "2015-12-31    2822\n",
       "2016-12-31    2822\n",
       "2017-12-31    2822\n",
       "没有单位'            1\n",
       "统计截止日期'          1\n",
       "dtype: int64"
      ]
     },
     "execution_count": 50,
     "metadata": {},
     "output_type": "execute_result"
    }
   ],
   "source": [
    "df = pd.read_excel(f'./out/去掉近三年数据不全的公司.xlsx')\n",
    "df.groupby(['EndDate']).size()"
   ]
  },
  {
   "cell_type": "code",
   "execution_count": 54,
   "metadata": {},
   "outputs": [
    {
     "data": {
      "text/plain": [
       "size\n",
       "1        2\n",
       "3      193\n",
       "4      118\n",
       "5       48\n",
       "6      131\n",
       "7      239\n",
       "8      356\n",
       "9      157\n",
       "10      55\n",
       "11     127\n",
       "12      86\n",
       "13      13\n",
       "14      99\n",
       "15    1200\n",
       "dtype: int64"
      ]
     },
     "execution_count": 54,
     "metadata": {},
     "output_type": "execute_result"
    }
   ],
   "source": [
    "df_size = df.groupby(['Symbol']).size().to_frame('size')\n",
    "\n",
    "df_size.groupby(['size']).size()"
   ]
  }
 ],
 "metadata": {
  "kernelspec": {
   "display_name": "Python 3",
   "language": "python",
   "name": "python3"
  },
  "language_info": {
   "codemirror_mode": {
    "name": "ipython",
    "version": 3
   },
   "file_extension": ".py",
   "mimetype": "text/x-python",
   "name": "python",
   "nbconvert_exporter": "python",
   "pygments_lexer": "ipython3",
   "version": "3.6.1"
  }
 },
 "nbformat": 4,
 "nbformat_minor": 2
}
