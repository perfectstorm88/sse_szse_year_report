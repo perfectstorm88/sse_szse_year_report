{
 "cells": [
  {
   "cell_type": "code",
   "execution_count": null,
   "metadata": {},
   "outputs": [],
   "source": [
    "\"\"\"\n",
    "把从上交所和深交所下载的年报pdf，提取文本\n",
    "\n",
    "为了加速，采用多进程并发方式\n",
    "\"\"\""
   ]
  },
  {
   "cell_type": "code",
   "execution_count": null,
   "metadata": {},
   "outputs": [],
   "source": [
    "#!jupyter nbconvert --to script pdf_to_txt.ipynb\n",
    "import os\n",
    "def pdf_to_txt(pdf_file,txt_dir='./'):\n",
    "    import subprocess\n",
    "    import os\n",
    "    try:\n",
    "        txt_filename=txt_dir+os.path.basename(pdf_file).replace('pdf','txt')\n",
    "#         out_bytes = subprocess.check_output(['which','pdf2txt.py'])\n",
    "#         pdf2txt=out_bytes.decode(\"utf-8\").replace('\\n','')\n",
    "#         if not pdf2txt:\n",
    "#             print('pdf2txt.py 不存在，程序退出<c')\n",
    "#             quit()\n",
    "#         subprocess.run([\"python\", pdf2txt, \"-o\",txt_filename ,pdf_file])\n",
    "        subprocess.run([\"pdf2txt.py\", \"-o\",txt_filename ,pdf_file])\n",
    "    except subprocess.CalledProcessError as e:\n",
    "        out_bytes = e.output       # Output generated before error\n",
    "        code      = e.returncode   # Return code\n",
    "        print(out_bytes,code)\n",
    "    except:\n",
    "        out_bytes = e.output       # Output generated before error\n",
    "        code      = e.returncode   # Return code\n",
    "        print(\"***=\",out_bytes,code)\n",
    "     \n",
    "\n",
    "    \n",
    "\n",
    "# pdf_dir ='../scraping/pdf/'\n",
    "# pdf_file=pdf_dir+'000780_2006.pdf' \n",
    "# pdf_to_txt(pdf_file)"
   ]
  },
  {
   "cell_type": "code",
   "execution_count": null,
   "metadata": {},
   "outputs": [],
   "source": [
    "# find files\n",
    "\n",
    "def find_files(pdf_dir):\n",
    "    return [pdf_dir+f for f in os.listdir(pdf_dir) if f.endswith('.pdf')]\n",
    "\n",
    "pdf_files = find_files(pdf_dir)\n",
    "print(len(pdf_files))\n",
    "print(pdf_files[:4])"
   ]
  },
  {
   "cell_type": "code",
   "execution_count": null,
   "metadata": {},
   "outputs": [],
   "source": [
    "\n",
    "\n",
    "base_dir='../scraping/content/'\n",
    "import time  \n",
    "from multiprocessing import Process, Queue\n",
    "from tqdm import tqdm\n",
    "\n",
    "q = Queue()\n",
    "\n",
    "def f(q: Queue):\n",
    "    while True:\n",
    "        pdf_file = q.get()\n",
    "        t0 = time.time()\n",
    "        print(f'进程{os.getpid()} 开始转换文件：{pdf_file}')\n",
    "        pdf_to_txt(pdf_file,base_dir)\n",
    "        print(f'进程{os.getpid()} 转换文件成功，用时(秒):{time.time()-t0}')\n",
    "\n",
    "\n",
    "            \n",
    "def loop_task():\n",
    "    import time  \n",
    "    for pdf_file in tqdm(pdf_files):\n",
    "        if q.qsize()> 10:\n",
    "            print(\"sleep for queue is not empty\")\n",
    "            time.sleep(3)  # sleep 10秒\n",
    "        else:\n",
    "            q.put(pdf_file)\n",
    "\n",
    "\n",
    "# 启动四个进程进行处理\n",
    "for i in range(6):\n",
    "    p = Process(target=f, args=(q,))\n",
    "    p.start()\n",
    "\n",
    "loop_task()\n",
    "\n",
    "    "
   ]
  }
 ],
 "metadata": {
  "kernelspec": {
   "display_name": "Python 3",
   "language": "python",
   "name": "python3"
  },
  "language_info": {
   "codemirror_mode": {
    "name": "ipython",
    "version": 3
   },
   "file_extension": ".py",
   "mimetype": "text/x-python",
   "name": "python",
   "nbconvert_exporter": "python",
   "pygments_lexer": "ipython3",
   "version": "3.6.8"
  }
 },
 "nbformat": 4,
 "nbformat_minor": 2
}
