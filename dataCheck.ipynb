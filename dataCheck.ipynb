{
 "cells": [
  {
   "cell_type": "code",
   "execution_count": 2,
   "metadata": {},
   "outputs": [],
   "source": [
    "import os\n",
    "import pandas as pd\n",
    "f= './out/数据整理190403.xlsx'\n",
    "df = pd.read_excel(f)\n",
    "\n",
    "# df.to_dict('records')\n",
    "# df[0]"
   ]
  },
  {
   "cell_type": "code",
   "execution_count": 6,
   "metadata": {},
   "outputs": [
    {
     "data": {
      "text/plain": [
       "{'Area': nan,\n",
       " 'Conme': nan,\n",
       " 'Empnum': nan,\n",
       " 'EndDate': '2017-12-31',\n",
       " 'IntangibleAsset': 4701000000,\n",
       " 'Listdt': nan,\n",
       " 'Listexg': nan,\n",
       " 'NetProfit': 23189000000,\n",
       " 'Nindcd': nan,\n",
       " 'Nshld': nan,\n",
       " 'Nshremp': 0,\n",
       " 'Nshrsms': 23866,\n",
       " 'Nshrstt': 0,\n",
       " 'Nshrttl': 17170411366,\n",
       " 'OperationProfit': 30223000000,\n",
       " 'Primed': nan,\n",
       " 'Province': nan,\n",
       " 'RDPersonRatio': nan,\n",
       " 'RDSpendSumRatio': nan,\n",
       " 'Rat_SO': 0,\n",
       " 'Stknme': nan,\n",
       " 'Symbol': '000001',\n",
       " 'TotalAssets': 3248474000000,\n",
       " 'TotalLiability': 3026420000000,\n",
       " 'Ucpd': nan,\n",
       " 'Ucsbg': nan,\n",
       " 'Ucscm': nan,\n",
       " 'Ucsvr': nan}"
      ]
     },
     "execution_count": 6,
     "metadata": {},
     "output_type": "execute_result"
    }
   ],
   "source": [
    "a=df.to_dict('records')\n",
    "a[0]"
   ]
  },
  {
   "cell_type": "code",
   "execution_count": 11,
   "metadata": {},
   "outputs": [
    {
     "name": "stdout",
     "output_type": "stream",
     "text": [
      "000527 []\n",
      "000748 ['2015']\n",
      "000916 ['2016', '2015']\n",
      "200770 []\n",
      "600001 []\n",
      "600002 []\n",
      "600003 []\n",
      "600005 ['2015']\n",
      "600656 ['2015']\n",
      "601268 []\n",
      "601299 []\n",
      "900935 ['2015']\n",
      "900949 []\n",
      "900950 []\n",
      "没有单位' []\n",
      "证券代码' []\n"
     ]
    }
   ],
   "source": [
    "idWithYear={}\n",
    "for x in a:\n",
    "    _id,year = x['Symbol'],x['EndDate'][0:4]\n",
    "    if _id not in idWithYear:\n",
    "        idWithYear[_id]=[]\n",
    "    if year in ['2016','2017','2015']:\n",
    "        idWithYear[_id].append(year)\n",
    "\n",
    "for (k,v) in  idWithYear.items(): \n",
    "    if len(v)<3:\n",
    "        print(k,v)\n"
   ]
  },
  {
   "cell_type": "code",
   "execution_count": null,
   "metadata": {
    "collapsed": true
   },
   "outputs": [],
   "source": []
  }
 ],
 "metadata": {
  "kernelspec": {
   "display_name": "Python 3",
   "language": "python",
   "name": "python3"
  },
  "language_info": {
   "codemirror_mode": {
    "name": "ipython",
    "version": 3
   },
   "file_extension": ".py",
   "mimetype": "text/x-python",
   "name": "python",
   "nbconvert_exporter": "python",
   "pygments_lexer": "ipython3",
   "version": "3.6.1"
  }
 },
 "nbformat": 4,
 "nbformat_minor": 2
}
