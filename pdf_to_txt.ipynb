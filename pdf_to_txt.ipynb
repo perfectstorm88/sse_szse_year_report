{
 "cells": [
  {
   "cell_type": "code",
   "execution_count": null,
   "metadata": {},
   "outputs": [],
   "source": [
    "\"\"\"\n",
    "把从上交所和深交所下载的年报pdf，提取文本\n",
    "\n",
    "为了加速，采用多进程并发方式\n",
    "\"\"\""
   ]
  },
  {
   "cell_type": "code",
   "execution_count": 20,
   "metadata": {},
   "outputs": [],
   "source": [
    "#!jupyter nbconvert --to script pdf_to_txt.ipynb\n",
    "import os\n",
    "def pdf_to_txt(pdf_file,txt_dir='./'):\n",
    "    import subprocess\n",
    "    import os\n",
    "    try:\n",
    "        txt_filename=txt_dir+os.path.basename(pdf_file).replace('pdf','txt')\n",
    "        fsize=0\n",
    "        try:\n",
    "            if os.path.exists(txt_filename):\n",
    "                fsize = os.path.getsize(txt_filename)\n",
    "                print(f'【进程{os.getpid()}】file {txt_filename} size is {int(fsize/1024)}kb')\n",
    "        except Exception as e:\n",
    "            print(f'【进程{os.getpid()}】getsize exception {txt_filename} ',e)\n",
    "         \n",
    "        if fsize > 1024*10:\n",
    "            print(f'【进程{os.getpid()}】jump...')\n",
    "\n",
    "        fsize = 0\n",
    "        try:\n",
    "            if os.path.exists(pdf_file):\n",
    "                fsize = os.path.getsize(pdf_file)\n",
    "        except Exception as e:\n",
    "            return \n",
    "#         out_bytes = subprocess.check_output(['which','pdf2txt.py'])\n",
    "#         pdf2txt=out_bytes.decode(\"utf-8\").replace('\\n','')\n",
    "#         if not pdf2txt:\n",
    "#             print('pdf2txt.py 不存在，程序退出<c')\n",
    "#             quit()\n",
    "#         subprocess.run([\"python\", pdf2txt, \"-o\",txt_filename ,pdf_file])\n",
    "        t0 = time.time()\n",
    "        print(f'【进程{os.getpid()}】开始转换文件：{pdf_file}')\n",
    "        subprocess.run([\"pdf2txt.py\", \"-o\",txt_filename ,pdf_file])\n",
    "        print(f'【进程{os.getpid()}】转换文件成功，用时={int(time.time()-t0)}秒, 转换速度={int(fsize/1024/(time.time()-t0))}KB/秒')\n",
    "    except subprocess.CalledProcessError as e:\n",
    "        out_bytes = e.output       # Output generated before error\n",
    "        code      = e.returncode   # Return code\n",
    "        print(out_bytes,code)\n",
    "    except:\n",
    "        out_bytes = e.output       # Output generated before error\n",
    "        code      = e.returncode   # Return code\n",
    "        print(\"***=\",out_bytes,code)\n",
    "     \n",
    "\n",
    "    \n",
    "\n",
    "\n",
    "# pdf_file=pdf_dir+'000780_2006.pdf' \n",
    "# pdf_to_txt(pdf_file)"
   ]
  },
  {
   "cell_type": "code",
   "execution_count": 21,
   "metadata": {},
   "outputs": [
    {
     "name": "stdout",
     "output_type": "stream",
     "text": [
      "2046\n",
      "['../scraping/pdf/000503_2011.pdf', '../scraping/pdf/000429_2002.pdf', '../scraping/pdf/000008_2017.pdf', '../scraping/pdf/000155_2011.pdf']\n"
     ]
    }
   ],
   "source": [
    "# find files\n",
    "\n",
    "def find_files(pdf_dir):\n",
    "    return [pdf_dir+f for f in os.listdir(pdf_dir) if f.endswith('.pdf')]\n",
    "\n",
    "pdf_dir ='../scraping/pdf/'\n",
    "pdf_files = find_files(pdf_dir)\n",
    "print(len(pdf_files))\n",
    "print(pdf_files[:4])"
   ]
  },
  {
   "cell_type": "code",
   "execution_count": 22,
   "metadata": {},
   "outputs": [
    {
     "name": "stderr",
     "output_type": "stream",
     "text": [
      "\n",
      "\n",
      "\n",
      "\n",
      "\n",
      "\n",
      "  0%|          | 0/2046 [00:00<?, ?it/s]\u001b[A\u001b[A\u001b[A\u001b[A\u001b[A\u001b[A"
     ]
    },
    {
     "name": "stdout",
     "output_type": "stream",
     "text": [
      "【进程26443】file ../scraping/content/000503_2011.txt size is 175kb\n",
      "【进程26444】file ../scraping/content/000429_2002.txt size is 190kb\n",
      "【进程26443】jump...\n",
      "【进程26444】jump...\n",
      "【进程26443】开始转换文件：../scraping/pdf/000503_2011.pdf\n",
      "【进程26444】开始转换文件：../scraping/pdf/000429_2002.pdf\n",
      "sleep for queue is not empty\n",
      "【进程26444】转换文件成功，用时(秒):7, 速度=33KB/秒\n",
      "【进程26444】file ../scraping/content/000008_2017.txt size is 113kb\n",
      "【进程26444】jump...\n",
      "【进程26444】开始转换文件：../scraping/pdf/000008_2017.pdf\n"
     ]
    },
    {
     "name": "stderr",
     "output_type": "stream",
     "text": [
      "\n",
      "\n",
      "\n",
      "\n",
      "\n",
      "\n",
      "  1%|          | 12/2046 [01:00<2:49:39,  5.00s/it]\u001b[A\u001b[A\u001b[A\u001b[A\u001b[A\u001b[A"
     ]
    },
    {
     "name": "stdout",
     "output_type": "stream",
     "text": [
      "sleep for queue is not empty\n"
     ]
    },
    {
     "ename": "KeyboardInterrupt",
     "evalue": "",
     "output_type": "error",
     "traceback": [
      "\u001b[0;31m---------------------------------------------------------------------------\u001b[0m",
      "\u001b[0;31mKeyboardInterrupt\u001b[0m                         Traceback (most recent call last)",
      "\u001b[0;32m<ipython-input-22-858777a455d0>\u001b[0m in \u001b[0;36m<module>\u001b[0;34m\u001b[0m\n\u001b[1;32m     31\u001b[0m     \u001b[0mp\u001b[0m\u001b[0;34m.\u001b[0m\u001b[0mstart\u001b[0m\u001b[0;34m(\u001b[0m\u001b[0;34m)\u001b[0m\u001b[0;34m\u001b[0m\u001b[0;34m\u001b[0m\u001b[0m\n\u001b[1;32m     32\u001b[0m \u001b[0;34m\u001b[0m\u001b[0m\n\u001b[0;32m---> 33\u001b[0;31m \u001b[0mloop_task\u001b[0m\u001b[0;34m(\u001b[0m\u001b[0;34m)\u001b[0m\u001b[0;34m\u001b[0m\u001b[0;34m\u001b[0m\u001b[0m\n\u001b[0m\u001b[1;32m     34\u001b[0m \u001b[0;34m\u001b[0m\u001b[0m\n\u001b[1;32m     35\u001b[0m \u001b[0;34m\u001b[0m\u001b[0m\n",
      "\u001b[0;32m<ipython-input-22-858777a455d0>\u001b[0m in \u001b[0;36mloop_task\u001b[0;34m()\u001b[0m\n\u001b[1;32m     21\u001b[0m         \u001b[0;32mif\u001b[0m \u001b[0mq\u001b[0m\u001b[0;34m.\u001b[0m\u001b[0mqsize\u001b[0m\u001b[0;34m(\u001b[0m\u001b[0;34m)\u001b[0m\u001b[0;34m>\u001b[0m \u001b[0;36m10\u001b[0m\u001b[0;34m:\u001b[0m\u001b[0;34m\u001b[0m\u001b[0;34m\u001b[0m\u001b[0m\n\u001b[1;32m     22\u001b[0m             \u001b[0mprint\u001b[0m\u001b[0;34m(\u001b[0m\u001b[0;34m\"sleep for queue is not empty\"\u001b[0m\u001b[0;34m)\u001b[0m\u001b[0;34m\u001b[0m\u001b[0;34m\u001b[0m\u001b[0m\n\u001b[0;32m---> 23\u001b[0;31m             \u001b[0mtime\u001b[0m\u001b[0;34m.\u001b[0m\u001b[0msleep\u001b[0m\u001b[0;34m(\u001b[0m\u001b[0;36m60\u001b[0m\u001b[0;34m)\u001b[0m  \u001b[0;31m# sleep 10秒\u001b[0m\u001b[0;34m\u001b[0m\u001b[0;34m\u001b[0m\u001b[0m\n\u001b[0m\u001b[1;32m     24\u001b[0m         \u001b[0;32melse\u001b[0m\u001b[0;34m:\u001b[0m\u001b[0;34m\u001b[0m\u001b[0;34m\u001b[0m\u001b[0m\n\u001b[1;32m     25\u001b[0m             \u001b[0mq\u001b[0m\u001b[0;34m.\u001b[0m\u001b[0mput\u001b[0m\u001b[0;34m(\u001b[0m\u001b[0mpdf_file\u001b[0m\u001b[0;34m)\u001b[0m\u001b[0;34m\u001b[0m\u001b[0;34m\u001b[0m\u001b[0m\n",
      "\u001b[0;31mKeyboardInterrupt\u001b[0m: "
     ]
    },
    {
     "name": "stderr",
     "output_type": "stream",
     "text": [
      "Process Process-15:\n",
      "Traceback (most recent call last):\n",
      "  File \"<ipython-input-20-c206e0925569>\", line 33, in pdf_to_txt\n",
      "    subprocess.run([\"pdf2txt.py\", \"-o\",txt_filename ,pdf_file])\n",
      "  File \"/root/miniconda3/lib/python3.7/subprocess.py\", line 474, in run\n",
      "    stdout, stderr = process.communicate(input, timeout=timeout)\n",
      "  File \"/root/miniconda3/lib/python3.7/subprocess.py\", line 931, in communicate\n",
      "    self.wait()\n",
      "  File \"/root/miniconda3/lib/python3.7/subprocess.py\", line 990, in wait\n",
      "    return self._wait(timeout=timeout)\n",
      "  File \"/root/miniconda3/lib/python3.7/subprocess.py\", line 1624, in _wait\n",
      "    (pid, sts) = self._try_wait(0)\n",
      "  File \"/root/miniconda3/lib/python3.7/subprocess.py\", line 1582, in _try_wait\n",
      "    (pid, sts) = os.waitpid(self.pid, wait_flags)\n",
      "KeyboardInterrupt\n",
      "\n",
      "During handling of the above exception, another exception occurred:\n",
      "\n",
      "Process Process-16:\n",
      "Traceback (most recent call last):\n",
      "Traceback (most recent call last):\n",
      "  File \"<ipython-input-20-c206e0925569>\", line 33, in pdf_to_txt\n",
      "    subprocess.run([\"pdf2txt.py\", \"-o\",txt_filename ,pdf_file])\n",
      "  File \"/root/miniconda3/lib/python3.7/multiprocessing/process.py\", line 297, in _bootstrap\n",
      "    self.run()\n",
      "  File \"/root/miniconda3/lib/python3.7/multiprocessing/process.py\", line 99, in run\n",
      "    self._target(*self._args, **self._kwargs)\n",
      "  File \"/root/miniconda3/lib/python3.7/subprocess.py\", line 474, in run\n",
      "    stdout, stderr = process.communicate(input, timeout=timeout)\n",
      "  File \"/root/miniconda3/lib/python3.7/subprocess.py\", line 931, in communicate\n",
      "    self.wait()\n",
      "  File \"/root/miniconda3/lib/python3.7/subprocess.py\", line 990, in wait\n",
      "    return self._wait(timeout=timeout)\n",
      "  File \"/root/miniconda3/lib/python3.7/subprocess.py\", line 1624, in _wait\n",
      "    (pid, sts) = self._try_wait(0)\n",
      "  File \"/root/miniconda3/lib/python3.7/subprocess.py\", line 1582, in _try_wait\n",
      "    (pid, sts) = os.waitpid(self.pid, wait_flags)\n",
      "KeyboardInterrupt\n",
      "\n",
      "During handling of the above exception, another exception occurred:\n",
      "\n",
      "Traceback (most recent call last):\n",
      "  File \"/root/miniconda3/lib/python3.7/multiprocessing/process.py\", line 297, in _bootstrap\n",
      "    self.run()\n",
      "  File \"/root/miniconda3/lib/python3.7/multiprocessing/process.py\", line 99, in run\n",
      "    self._target(*self._args, **self._kwargs)\n",
      "  File \"<ipython-input-22-858777a455d0>\", line 13, in f\n",
      "    pdf_to_txt(pdf_file,base_dir)\n",
      "  File \"<ipython-input-20-c206e0925569>\", line 40, in pdf_to_txt\n",
      "    out_bytes = e.output       # Output generated before error\n",
      "UnboundLocalError: local variable 'e' referenced before assignment\n",
      "  File \"<ipython-input-22-858777a455d0>\", line 13, in f\n",
      "    pdf_to_txt(pdf_file,base_dir)\n",
      "  File \"<ipython-input-20-c206e0925569>\", line 40, in pdf_to_txt\n",
      "    out_bytes = e.output       # Output generated before error\n",
      "UnboundLocalError: local variable 'e' referenced before assignment\n"
     ]
    }
   ],
   "source": [
    "\n",
    "\n",
    "base_dir='../scraping/content/'\n",
    "import time  \n",
    "from multiprocessing import Process, Queue\n",
    "from tqdm import tqdm\n",
    "\n",
    "q = Queue()\n",
    "\n",
    "def f(q: Queue):\n",
    "    while True:\n",
    "        pdf_file = q.get()\n",
    "        pdf_to_txt(pdf_file,base_dir)\n",
    "\n",
    "\n",
    "\n",
    "            \n",
    "def loop_task():\n",
    "    import time  \n",
    "    for pdf_file in tqdm(pdf_files):\n",
    "        if q.qsize()> 10:\n",
    "            print(\"sleep for queue is not empty\")\n",
    "            time.sleep(60)  # sleep 10秒\n",
    "        else:\n",
    "            q.put(pdf_file)\n",
    "\n",
    "\n",
    "# 启动四个进程进行处理\n",
    "for i in range(2):\n",
    "    p = Process(target=f, args=(q,))\n",
    "    p.start()\n",
    "\n",
    "loop_task()\n",
    "\n",
    "    "
   ]
  }
 ],
 "metadata": {
  "kernelspec": {
   "display_name": "Python 3",
   "language": "python",
   "name": "python3"
  },
  "language_info": {
   "codemirror_mode": {
    "name": "ipython",
    "version": 3
   },
   "file_extension": ".py",
   "mimetype": "text/x-python",
   "name": "python",
   "nbconvert_exporter": "python",
   "pygments_lexer": "ipython3",
   "version": "3.7.3"
  }
 },
 "nbformat": 4,
 "nbformat_minor": 2
}
