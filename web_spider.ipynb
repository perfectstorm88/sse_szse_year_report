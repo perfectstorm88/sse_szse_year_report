{
 "cells": [
  {
   "cell_type": "code",
   "execution_count": 1,
   "metadata": {},
   "outputs": [
    {
     "name": "stdout",
     "output_type": "stream",
     "text": [
      "Processing 000001 \n",
      "HTTP Error 456: \n"
     ]
    }
   ],
   "source": [
    "import os\n",
    "import pandas as pd\n",
    "import bs4\n",
    "from urllib.request import urlopen\n",
    "from bs4 import BeautifulSoup as soup\n",
    "import re\n",
    "from tqdm import tqdm\n",
    "import pdb\n",
    "import pickle\n",
    "\n",
    "url_prefix = 'http://vip.stock.finance.sina.com.cn'\n",
    "url_pattern = r'href=\".+target='\n",
    "title_pattern = r'_blank\">.+</a>'\n",
    "year_pattern = r'20[01][0-9]'\n",
    "\n",
    "code = '000001'\n",
    "\n",
    "def getTitle(code):\n",
    "    try:\n",
    "        reports ={}\n",
    "        company_url = f'http://vip.stock.finance.sina.com.cn/corp/go.php/vCB_Bulletin/stockid/{code}/page_type/ndbg.phtml'\n",
    "        print(f'Processing {code} ')\n",
    "\n",
    "        page_client = urlopen(company_url)\n",
    "        page = page_client.read().decode('gbk')\n",
    "        page_client.close()\n",
    "\n",
    "        page_soup = soup(page, \"html.parser\")\n",
    "        content = page_soup.find('div',{'class':'datelist'})\n",
    "\n",
    "        all_url_title = content.findAll('a')\n",
    "\n",
    "        current_id_set = set()\n",
    "        for v in all_url_title:\n",
    "            url = url_prefix + re.findall(url_pattern,str(v))[0][6:-9]\n",
    "            url = url.replace('amp;','')          \n",
    "\n",
    "            title = re.findall(title_pattern,str(v))[0][8:-4]\n",
    "            year = re.findall(year_pattern, title)\n",
    "            if not year: continue\n",
    "            year = year[0]\n",
    "            report_id = code+'_'+year\n",
    "            if report_id not in reports:\n",
    "                reports[report_id]=url;\n",
    "                \n",
    "#         print(reports)\n",
    "        return reports\n",
    "    except Exception as e:\n",
    "        print(e)\n",
    "\n",
    "getTitle(code)  \n",
    "\n",
    "def readContent(url):\n",
    "    try:\n",
    "        page_client = urlopen(url)\n",
    "        page = page_client.read().decode('gbk')\n",
    "        page_client.close()\n",
    "\n",
    "        report_soup = soup(page, \"html.parser\", )\n",
    "\n",
    "        content = str(report_soup.find('pre'))\n",
    "#         print(content)\n",
    "        return content\n",
    "    except Exception as e:\n",
    "        print(e)\n",
    "\n",
    "# url = 'http://vip.stock.finance.sina.com.cn/corp/view/vCB_AllBulletinDetail.php?stockid=000004&id=4386458'; \n",
    "# readContent(url)"
   ]
  },
  {
   "cell_type": "code",
   "execution_count": 2,
   "metadata": {},
   "outputs": [
    {
     "data": {
      "text/html": [
       "<div>\n",
       "<style>\n",
       "    .dataframe thead tr:only-child th {\n",
       "        text-align: right;\n",
       "    }\n",
       "\n",
       "    .dataframe thead th {\n",
       "        text-align: left;\n",
       "    }\n",
       "\n",
       "    .dataframe tbody tr th {\n",
       "        vertical-align: top;\n",
       "    }\n",
       "</style>\n",
       "<table border=\"1\" class=\"dataframe\">\n",
       "  <thead>\n",
       "    <tr style=\"text-align: right;\">\n",
       "      <th></th>\n",
       "      <th>Stkcd</th>\n",
       "      <th>Reptdt</th>\n",
       "      <th>Stknme</th>\n",
       "      <th>Listexg</th>\n",
       "      <th>Conme</th>\n",
       "      <th>Nindcd</th>\n",
       "      <th>Nindnme</th>\n",
       "      <th>Regadd</th>\n",
       "      <th>Area</th>\n",
       "      <th>Province</th>\n",
       "      <th>...</th>\n",
       "      <th>Explanation</th>\n",
       "      <th>IndustryCode</th>\n",
       "      <th>IndustryName</th>\n",
       "      <th>TotalAssets</th>\n",
       "      <th>TotalLiability</th>\n",
       "      <th>IntangibleAsset</th>\n",
       "      <th>NetProfit</th>\n",
       "      <th>OperatingEvenue</th>\n",
       "      <th>OperatingCost</th>\n",
       "      <th>OperationProfit</th>\n",
       "    </tr>\n",
       "  </thead>\n",
       "  <tbody>\n",
       "    <tr>\n",
       "      <th>2</th>\n",
       "      <td>000004</td>\n",
       "      <td>2003-12-31</td>\n",
       "      <td>北大高科</td>\n",
       "      <td>2</td>\n",
       "      <td>深圳市北大高科技股份有限公司</td>\n",
       "      <td>G54</td>\n",
       "      <td>道路运输业</td>\n",
       "      <td>深圳市蛇口新时代广场27楼A-D</td>\n",
       "      <td>华南</td>\n",
       "      <td>广东省</td>\n",
       "      <td>...</td>\n",
       "      <td>NaN</td>\n",
       "      <td>G54</td>\n",
       "      <td>道路运输业</td>\n",
       "      <td>2.378752e+08</td>\n",
       "      <td>1.094558e+08</td>\n",
       "      <td>1482563.54</td>\n",
       "      <td>7641381.76</td>\n",
       "      <td>1.195350e+08</td>\n",
       "      <td>68211544.36</td>\n",
       "      <td>4712436.83</td>\n",
       "    </tr>\n",
       "    <tr>\n",
       "      <th>3</th>\n",
       "      <td>000004</td>\n",
       "      <td>2004-12-31</td>\n",
       "      <td>北大高科</td>\n",
       "      <td>2</td>\n",
       "      <td>深圳市北大高科技股份有限公司</td>\n",
       "      <td>G54</td>\n",
       "      <td>道路运输业</td>\n",
       "      <td>深圳市蛇口新时代广场27楼A-D</td>\n",
       "      <td>华南</td>\n",
       "      <td>广东省</td>\n",
       "      <td>...</td>\n",
       "      <td>NaN</td>\n",
       "      <td>G54</td>\n",
       "      <td>道路运输业</td>\n",
       "      <td>2.142702e+08</td>\n",
       "      <td>9.164253e+07</td>\n",
       "      <td>3146817.72</td>\n",
       "      <td>-3282932.11</td>\n",
       "      <td>1.067478e+08</td>\n",
       "      <td>69169581.00</td>\n",
       "      <td>-7519874.60</td>\n",
       "    </tr>\n",
       "    <tr>\n",
       "      <th>4</th>\n",
       "      <td>000004</td>\n",
       "      <td>2005-12-31</td>\n",
       "      <td>国农科技</td>\n",
       "      <td>2</td>\n",
       "      <td>深圳中国农大科技股份有限公司</td>\n",
       "      <td>G54</td>\n",
       "      <td>道路运输业</td>\n",
       "      <td>深圳市蛇口新时代广场27楼A-D</td>\n",
       "      <td>华南</td>\n",
       "      <td>广东省</td>\n",
       "      <td>...</td>\n",
       "      <td>NaN</td>\n",
       "      <td>G54</td>\n",
       "      <td>道路运输业</td>\n",
       "      <td>1.558688e+08</td>\n",
       "      <td>5.593254e+07</td>\n",
       "      <td>2862825.77</td>\n",
       "      <td>-18577413.51</td>\n",
       "      <td>6.137672e+07</td>\n",
       "      <td>37042271.75</td>\n",
       "      <td>-21888181.45</td>\n",
       "    </tr>\n",
       "    <tr>\n",
       "      <th>5</th>\n",
       "      <td>000004</td>\n",
       "      <td>2006-12-31</td>\n",
       "      <td>*ST 国农</td>\n",
       "      <td>2</td>\n",
       "      <td>深圳中国农大科技股份有限公司</td>\n",
       "      <td>G54</td>\n",
       "      <td>道路运输业</td>\n",
       "      <td>深圳市蛇口新时代广场27楼A-D</td>\n",
       "      <td>华南</td>\n",
       "      <td>广东省</td>\n",
       "      <td>...</td>\n",
       "      <td>NaN</td>\n",
       "      <td>G54</td>\n",
       "      <td>道路运输业</td>\n",
       "      <td>2.043046e+08</td>\n",
       "      <td>9.202187e+07</td>\n",
       "      <td>12234831.82</td>\n",
       "      <td>3055159.25</td>\n",
       "      <td>4.563900e+07</td>\n",
       "      <td>23909820.63</td>\n",
       "      <td>5426256.12</td>\n",
       "    </tr>\n",
       "    <tr>\n",
       "      <th>6</th>\n",
       "      <td>000004</td>\n",
       "      <td>2007-12-31</td>\n",
       "      <td>ST 国农</td>\n",
       "      <td>2</td>\n",
       "      <td>深圳中国农大科技股份有限公司</td>\n",
       "      <td>G54</td>\n",
       "      <td>道路运输业</td>\n",
       "      <td>深圳市蛇口新时代广场27楼A-D</td>\n",
       "      <td>华南</td>\n",
       "      <td>广东省</td>\n",
       "      <td>...</td>\n",
       "      <td>NaN</td>\n",
       "      <td>G54</td>\n",
       "      <td>道路运输业</td>\n",
       "      <td>1.698226e+08</td>\n",
       "      <td>7.203596e+07</td>\n",
       "      <td>12181733.60</td>\n",
       "      <td>-10001970.54</td>\n",
       "      <td>4.044954e+07</td>\n",
       "      <td>24730508.86</td>\n",
       "      <td>-9619521.35</td>\n",
       "    </tr>\n",
       "  </tbody>\n",
       "</table>\n",
       "<p>5 rows × 52 columns</p>\n",
       "</div>"
      ],
      "text/plain": [
       "    Stkcd      Reptdt  Stknme  Listexg           Conme Nindcd Nindnme  \\\n",
       "2  000004  2003-12-31    北大高科        2  深圳市北大高科技股份有限公司    G54   道路运输业   \n",
       "3  000004  2004-12-31    北大高科        2  深圳市北大高科技股份有限公司    G54   道路运输业   \n",
       "4  000004  2005-12-31    国农科技        2  深圳中国农大科技股份有限公司    G54   道路运输业   \n",
       "5  000004  2006-12-31  *ST 国农        2  深圳中国农大科技股份有限公司    G54   道路运输业   \n",
       "6  000004  2007-12-31   ST 国农        2  深圳中国农大科技股份有限公司    G54   道路运输业   \n",
       "\n",
       "             Regadd Area Province       ...        Explanation IndustryCode  \\\n",
       "2  深圳市蛇口新时代广场27楼A-D   华南      广东省       ...                NaN          G54   \n",
       "3  深圳市蛇口新时代广场27楼A-D   华南      广东省       ...                NaN          G54   \n",
       "4  深圳市蛇口新时代广场27楼A-D   华南      广东省       ...                NaN          G54   \n",
       "5  深圳市蛇口新时代广场27楼A-D   华南      广东省       ...                NaN          G54   \n",
       "6  深圳市蛇口新时代广场27楼A-D   华南      广东省       ...                NaN          G54   \n",
       "\n",
       "   IndustryName   TotalAssets TotalLiability IntangibleAsset    NetProfit  \\\n",
       "2         道路运输业  2.378752e+08   1.094558e+08      1482563.54   7641381.76   \n",
       "3         道路运输业  2.142702e+08   9.164253e+07      3146817.72  -3282932.11   \n",
       "4         道路运输业  1.558688e+08   5.593254e+07      2862825.77 -18577413.51   \n",
       "5         道路运输业  2.043046e+08   9.202187e+07     12234831.82   3055159.25   \n",
       "6         道路运输业  1.698226e+08   7.203596e+07     12181733.60 -10001970.54   \n",
       "\n",
       "   OperatingEvenue  OperatingCost  OperationProfit  \n",
       "2     1.195350e+08    68211544.36       4712436.83  \n",
       "3     1.067478e+08    69169581.00      -7519874.60  \n",
       "4     6.137672e+07    37042271.75     -21888181.45  \n",
       "5     4.563900e+07    23909820.63       5426256.12  \n",
       "6     4.044954e+07    24730508.86      -9619521.35  \n",
       "\n",
       "[5 rows x 52 columns]"
      ]
     },
     "execution_count": 2,
     "metadata": {},
     "output_type": "execute_result"
    }
   ],
   "source": [
    "import os\n",
    "import pandas as pd\n",
    "import re\n",
    "from tqdm import tqdm\n",
    "df1 = pd.read_excel('out_join2_20190318.xlsx',index_col=0,\n",
    "            dtype={'Stkcd': str})\n",
    "df1.head()\n",
    "\n"
   ]
  },
  {
   "cell_type": "code",
   "execution_count": 3,
   "metadata": {},
   "outputs": [
    {
     "name": "stderr",
     "output_type": "stream",
     "text": [
      "\r",
      "  0%|          | 0/37 [00:00<?, ?it/s]"
     ]
    },
    {
     "name": "stdout",
     "output_type": "stream",
     "text": [
      "Processing 300254\n",
      " \n",
      "Remote end closed connection without response\n",
      "获取年报地址失败:300254\n",
      ", retrying..\n",
      "Processing 300254\n",
      " \n",
      "Remote end closed connection without response\n",
      "获取年报地址失败:300254\n",
      ", retrying..\n",
      "Processing 300254\n",
      " \n",
      "Remote end closed connection without response\n",
      "获取年报地址失败:300254\n",
      ", retrying..\n"
     ]
    },
    {
     "name": "stderr",
     "output_type": "stream",
     "text": [
      "\r",
      "  3%|▎         | 1/37 [00:08<04:55,  8.22s/it]"
     ]
    },
    {
     "name": "stdout",
     "output_type": "stream",
     "text": [
      "Processing 300254\n",
      " \n",
      "Remote end closed connection without response\n",
      "获取年报地址失败:300254\n",
      " **************************************************\n",
      "Processing 900953\n",
      " \n",
      "Remote end closed connection without response\n",
      "获取年报地址失败:900953\n",
      ", retrying..\n",
      "Processing 900953\n",
      " \n",
      "Remote end closed connection without response\n",
      "获取年报地址失败:900953\n",
      ", retrying..\n",
      "Processing 900953\n",
      " \n",
      "Remote end closed connection without response\n",
      "获取年报地址失败:900953\n",
      ", retrying..\n"
     ]
    },
    {
     "name": "stderr",
     "output_type": "stream",
     "text": [
      "\r",
      "  5%|▌         | 2/37 [00:16<04:47,  8.22s/it]"
     ]
    },
    {
     "name": "stdout",
     "output_type": "stream",
     "text": [
      "Processing 900953\n",
      " \n",
      "Remote end closed connection without response\n",
      "获取年报地址失败:900953\n",
      " **************************************************\n",
      "Processing 300272\n",
      " \n",
      "Remote end closed connection without response\n",
      "获取年报地址失败:300272\n",
      ", retrying..\n",
      "Processing 300272\n",
      " \n",
      "Remote end closed connection without response\n",
      "获取年报地址失败:300272\n",
      ", retrying..\n",
      "Processing 300272\n",
      " \n",
      "Remote end closed connection without response\n",
      "获取年报地址失败:300272\n",
      ", retrying..\n"
     ]
    },
    {
     "name": "stderr",
     "output_type": "stream",
     "text": [
      "\r",
      "  8%|▊         | 3/37 [00:24<04:39,  8.22s/it]"
     ]
    },
    {
     "name": "stdout",
     "output_type": "stream",
     "text": [
      "Processing 300272\n",
      " \n",
      "Remote end closed connection without response\n",
      "获取年报地址失败:300272\n",
      " **************************************************\n",
      "Processing 300021\n",
      " \n",
      "Remote end closed connection without response\n",
      "获取年报地址失败:300021\n",
      ", retrying..\n",
      "Processing 300021\n",
      " \n",
      "Remote end closed connection without response\n",
      "获取年报地址失败:300021\n",
      ", retrying..\n",
      "Processing 300021\n",
      " \n",
      "Remote end closed connection without response\n",
      "获取年报地址失败:300021\n",
      ", retrying..\n"
     ]
    },
    {
     "name": "stderr",
     "output_type": "stream",
     "text": [
      "\r",
      " 11%|█         | 4/37 [00:32<04:31,  8.22s/it]"
     ]
    },
    {
     "name": "stdout",
     "output_type": "stream",
     "text": [
      "Processing 300021\n",
      " \n",
      "Remote end closed connection without response\n",
      "获取年报地址失败:300021\n",
      " **************************************************\n",
      "Processing 002044\n",
      " \n",
      "Remote end closed connection without response\n",
      "获取年报地址失败:002044\n",
      ", retrying..\n",
      "Processing 002044\n",
      " \n",
      "Remote end closed connection without response\n",
      "获取年报地址失败:002044\n",
      ", retrying..\n",
      "Processing 002044\n",
      " \n",
      "Remote end closed connection without response\n",
      "获取年报地址失败:002044\n",
      ", retrying..\n"
     ]
    },
    {
     "name": "stderr",
     "output_type": "stream",
     "text": [
      "\r",
      " 14%|█▎        | 5/37 [00:41<04:23,  8.24s/it]"
     ]
    },
    {
     "name": "stdout",
     "output_type": "stream",
     "text": [
      "Processing 002044\n",
      " \n",
      "Remote end closed connection without response\n",
      "获取年报地址失败:002044\n",
      " **************************************************\n",
      "Processing 300278\n",
      " \n",
      "Remote end closed connection without response\n",
      "获取年报地址失败:300278\n",
      ", retrying..\n",
      "Processing 300278\n",
      " \n",
      "Remote end closed connection without response\n",
      "获取年报地址失败:300278\n",
      ", retrying..\n",
      "Processing 300278\n",
      " \n",
      "Remote end closed connection without response\n",
      "获取年报地址失败:300278\n",
      ", retrying..\n"
     ]
    },
    {
     "name": "stderr",
     "output_type": "stream",
     "text": [
      "\r",
      " 16%|█▌        | 6/37 [00:49<04:15,  8.23s/it]"
     ]
    },
    {
     "name": "stdout",
     "output_type": "stream",
     "text": [
      "Processing 300278\n",
      " \n",
      "Remote end closed connection without response\n",
      "获取年报地址失败:300278\n",
      " **************************************************\n",
      "Processing 300238\n",
      " \n",
      "Remote end closed connection without response\n",
      "获取年报地址失败:300238\n",
      ", retrying..\n",
      "Processing 300238\n",
      " \n",
      "Remote end closed connection without response\n",
      "获取年报地址失败:300238\n",
      ", retrying..\n",
      "Processing 300238\n",
      " \n",
      "Remote end closed connection without response\n",
      "获取年报地址失败:300238\n",
      ", retrying..\n"
     ]
    },
    {
     "name": "stderr",
     "output_type": "stream",
     "text": [
      "\r",
      " 19%|█▉        | 7/37 [00:57<04:06,  8.23s/it]"
     ]
    },
    {
     "name": "stdout",
     "output_type": "stream",
     "text": [
      "Processing 300238\n",
      " \n",
      "Remote end closed connection without response\n",
      "获取年报地址失败:300238\n",
      " **************************************************\n",
      "Processing 002908\n",
      " \n",
      "Remote end closed connection without response\n",
      "获取年报地址失败:002908\n",
      ", retrying..\n",
      "Processing 002908\n",
      " \n",
      "Remote end closed connection without response\n",
      "获取年报地址失败:002908\n",
      ", retrying..\n",
      "Processing 002908\n",
      " \n",
      "Remote end closed connection without response\n",
      "获取年报地址失败:002908\n",
      ", retrying..\n"
     ]
    },
    {
     "name": "stderr",
     "output_type": "stream",
     "text": [
      "\r",
      " 22%|██▏       | 8/37 [01:05<03:58,  8.23s/it]"
     ]
    },
    {
     "name": "stdout",
     "output_type": "stream",
     "text": [
      "Processing 002908\n",
      " \n",
      "Remote end closed connection without response\n",
      "获取年报地址失败:002908\n",
      " **************************************************\n",
      "Processing 002905\n",
      " \n",
      "Remote end closed connection without response\n",
      "获取年报地址失败:002905\n",
      ", retrying..\n",
      "Processing 002905\n",
      " \n",
      "Remote end closed connection without response\n",
      "获取年报地址失败:002905\n",
      ", retrying..\n",
      "Processing 002905\n",
      " \n",
      "Remote end closed connection without response\n",
      "获取年报地址失败:002905\n",
      ", retrying..\n"
     ]
    },
    {
     "name": "stderr",
     "output_type": "stream",
     "text": [
      "\r",
      " 24%|██▍       | 9/37 [01:14<03:50,  8.23s/it]"
     ]
    },
    {
     "name": "stdout",
     "output_type": "stream",
     "text": [
      "Processing 002905\n",
      " \n",
      "Remote end closed connection without response\n",
      "获取年报地址失败:002905\n",
      " **************************************************\n",
      "Processing 002731\n",
      " \n",
      "Remote end closed connection without response\n",
      "获取年报地址失败:002731\n",
      ", retrying..\n",
      "Processing 002731\n",
      " \n",
      "Remote end closed connection without response\n",
      "获取年报地址失败:002731\n",
      ", retrying..\n",
      "Processing 002731\n",
      " \n",
      "Remote end closed connection without response\n",
      "获取年报地址失败:002731\n",
      ", retrying..\n"
     ]
    },
    {
     "name": "stderr",
     "output_type": "stream",
     "text": [
      "\r",
      " 27%|██▋       | 10/37 [01:22<03:42,  8.23s/it]"
     ]
    },
    {
     "name": "stdout",
     "output_type": "stream",
     "text": [
      "Processing 002731\n",
      " \n",
      "Remote end closed connection without response\n",
      "获取年报地址失败:002731\n",
      " **************************************************\n",
      "Processing 300009\n",
      " \n",
      "Remote end closed connection without response\n",
      "获取年报地址失败:300009\n",
      ", retrying..\n",
      "Processing 300009\n",
      " \n",
      "Remote end closed connection without response\n",
      "获取年报地址失败:300009\n",
      ", retrying..\n",
      "Processing 300009\n",
      " \n",
      "Remote end closed connection without response\n",
      "获取年报地址失败:300009\n",
      ", retrying..\n"
     ]
    },
    {
     "name": "stderr",
     "output_type": "stream",
     "text": [
      "\r",
      " 30%|██▉       | 11/37 [01:30<03:34,  8.25s/it]"
     ]
    },
    {
     "name": "stdout",
     "output_type": "stream",
     "text": [
      "Processing 300009\n",
      " \n",
      "Remote end closed connection without response\n",
      "获取年报地址失败:300009\n",
      " **************************************************\n",
      "Processing 002830\n",
      " \n",
      "Remote end closed connection without response\n",
      "获取年报地址失败:002830\n",
      ", retrying..\n",
      "Processing 002830\n",
      " \n",
      "Remote end closed connection without response\n",
      "获取年报地址失败:002830\n",
      ", retrying..\n",
      "Processing 002830\n",
      " \n",
      "Remote end closed connection without response\n",
      "获取年报地址失败:002830\n",
      ", retrying..\n"
     ]
    },
    {
     "name": "stderr",
     "output_type": "stream",
     "text": [
      "\r",
      " 32%|███▏      | 12/37 [01:38<03:26,  8.24s/it]"
     ]
    },
    {
     "name": "stdout",
     "output_type": "stream",
     "text": [
      "Processing 002830\n",
      " \n",
      "Remote end closed connection without response\n",
      "获取年报地址失败:002830\n",
      " **************************************************\n",
      "Processing 300138\n",
      " \n",
      "Remote end closed connection without response\n",
      "获取年报地址失败:300138\n",
      ", retrying..\n",
      "Processing 300138\n",
      " \n",
      "Remote end closed connection without response\n",
      "获取年报地址失败:300138\n",
      ", retrying..\n",
      "Processing 300138\n",
      " \n",
      "Remote end closed connection without response\n",
      "获取年报地址失败:300138\n",
      ", retrying..\n"
     ]
    },
    {
     "name": "stderr",
     "output_type": "stream",
     "text": [
      "\r",
      " 35%|███▌      | 13/37 [01:47<03:17,  8.24s/it]"
     ]
    },
    {
     "name": "stdout",
     "output_type": "stream",
     "text": [
      "Processing 300138\n",
      " \n",
      "Remote end closed connection without response\n",
      "获取年报地址失败:300138\n",
      " **************************************************\n",
      "Processing 002840\n",
      " \n",
      "Remote end closed connection without response\n",
      "获取年报地址失败:002840\n",
      ", retrying..\n",
      "Processing 002840\n",
      " \n",
      "Remote end closed connection without response\n",
      "获取年报地址失败:002840\n",
      ", retrying..\n",
      "Processing 002840\n",
      " \n",
      "Remote end closed connection without response\n",
      "获取年报地址失败:002840\n",
      ", retrying..\n"
     ]
    },
    {
     "name": "stderr",
     "output_type": "stream",
     "text": [
      "\r",
      " 38%|███▊      | 14/37 [01:55<03:09,  8.24s/it]"
     ]
    },
    {
     "name": "stdout",
     "output_type": "stream",
     "text": [
      "Processing 002840\n",
      " \n",
      "Remote end closed connection without response\n",
      "获取年报地址失败:002840\n",
      " **************************************************\n",
      "Processing 300071\n",
      " \n",
      "Remote end closed connection without response\n",
      "获取年报地址失败:300071\n",
      ", retrying..\n",
      "Processing 300071\n",
      " \n",
      "Remote end closed connection without response\n",
      "获取年报地址失败:300071\n",
      ", retrying..\n",
      "Processing 300071\n",
      " \n",
      "Remote end closed connection without response\n",
      "获取年报地址失败:300071\n",
      ", retrying..\n"
     ]
    },
    {
     "name": "stderr",
     "output_type": "stream",
     "text": [
      "\r",
      " 41%|████      | 15/37 [02:03<03:01,  8.25s/it]"
     ]
    },
    {
     "name": "stdout",
     "output_type": "stream",
     "text": [
      "Processing 300071\n",
      " \n",
      "Remote end closed connection without response\n",
      "获取年报地址失败:300071\n",
      " **************************************************\n",
      "Processing 002466\n",
      " \n",
      "Remote end closed connection without response\n",
      "获取年报地址失败:002466\n",
      ", retrying..\n",
      "Processing 002466\n",
      " \n",
      "Remote end closed connection without response\n",
      "获取年报地址失败:002466\n",
      ", retrying..\n",
      "Processing 002466\n",
      " \n",
      "Remote end closed connection without response\n",
      "获取年报地址失败:002466\n",
      ", retrying..\n"
     ]
    },
    {
     "name": "stderr",
     "output_type": "stream",
     "text": [
      "\r",
      " 43%|████▎     | 16/37 [02:11<02:53,  8.25s/it]"
     ]
    },
    {
     "name": "stdout",
     "output_type": "stream",
     "text": [
      "Processing 002466\n",
      " \n",
      "Remote end closed connection without response\n",
      "获取年报地址失败:002466\n",
      " **************************************************\n",
      "Processing 300134\n",
      " \n",
      "Remote end closed connection without response\n",
      "获取年报地址失败:300134\n",
      ", retrying..\n",
      "Processing 300134\n",
      " \n",
      "Remote end closed connection without response\n",
      "获取年报地址失败:300134\n",
      ", retrying..\n",
      "Processing 300134\n",
      " \n",
      "Remote end closed connection without response\n",
      "获取年报地址失败:300134\n",
      ", retrying..\n"
     ]
    },
    {
     "name": "stderr",
     "output_type": "stream",
     "text": [
      "\r",
      " 46%|████▌     | 17/37 [02:20<02:45,  8.25s/it]"
     ]
    },
    {
     "name": "stdout",
     "output_type": "stream",
     "text": [
      "Processing 300134\n",
      " \n",
      "Remote end closed connection without response\n",
      "获取年报地址失败:300134\n",
      " **************************************************\n",
      "Processing 000035\n",
      " \n",
      "Remote end closed connection without response\n",
      "获取年报地址失败:000035\n",
      ", retrying..\n",
      "Processing 000035\n",
      " \n",
      "Remote end closed connection without response\n",
      "获取年报地址失败:000035\n",
      ", retrying..\n",
      "Processing 000035\n",
      " \n",
      "Remote end closed connection without response\n",
      "获取年报地址失败:000035\n",
      ", retrying..\n"
     ]
    },
    {
     "name": "stderr",
     "output_type": "stream",
     "text": [
      "\r",
      " 49%|████▊     | 18/37 [02:28<02:36,  8.26s/it]"
     ]
    },
    {
     "name": "stdout",
     "output_type": "stream",
     "text": [
      "Processing 000035\n",
      " \n",
      "Remote end closed connection without response\n",
      "获取年报地址失败:000035\n",
      " **************************************************\n",
      "Processing 002032\n",
      " \n",
      "Remote end closed connection without response\n",
      "获取年报地址失败:002032\n",
      ", retrying..\n",
      "Processing 002032\n",
      " \n",
      "Remote end closed connection without response\n",
      "获取年报地址失败:002032\n",
      ", retrying..\n",
      "Processing 002032\n",
      " \n",
      "Remote end closed connection without response\n",
      "获取年报地址失败:002032\n",
      ", retrying..\n"
     ]
    },
    {
     "name": "stderr",
     "output_type": "stream",
     "text": [
      "\r",
      " 51%|█████▏    | 19/37 [02:36<02:28,  8.26s/it]"
     ]
    },
    {
     "name": "stdout",
     "output_type": "stream",
     "text": [
      "Processing 002032\n",
      " \n",
      "Remote end closed connection without response\n",
      "获取年报地址失败:002032\n",
      " **************************************************\n",
      "Processing 600903\n",
      " \n",
      "Remote end closed connection without response\n",
      "获取年报地址失败:600903\n",
      ", retrying..\n",
      "Processing 600903\n",
      " \n",
      "Remote end closed connection without response\n",
      "获取年报地址失败:600903\n",
      ", retrying..\n",
      "Processing 600903\n",
      " \n",
      "Remote end closed connection without response\n",
      "获取年报地址失败:600903\n",
      ", retrying..\n"
     ]
    },
    {
     "name": "stderr",
     "output_type": "stream",
     "text": [
      "\r",
      " 54%|█████▍    | 20/37 [02:45<02:20,  8.27s/it]"
     ]
    },
    {
     "name": "stdout",
     "output_type": "stream",
     "text": [
      "Processing 600903\n",
      " \n",
      "Remote end closed connection without response\n",
      "获取年报地址失败:600903\n",
      " **************************************************\n",
      "Processing 002150\n",
      " \n",
      "Remote end closed connection without response\n",
      "获取年报地址失败:002150\n",
      ", retrying..\n",
      "Processing 002150\n",
      " \n",
      "Remote end closed connection without response\n",
      "获取年报地址失败:002150\n",
      ", retrying..\n",
      "Processing 002150\n",
      " \n",
      "Remote end closed connection without response\n",
      "获取年报地址失败:002150\n",
      ", retrying..\n"
     ]
    },
    {
     "name": "stderr",
     "output_type": "stream",
     "text": [
      "\r",
      " 57%|█████▋    | 21/37 [02:53<02:12,  8.26s/it]"
     ]
    },
    {
     "name": "stdout",
     "output_type": "stream",
     "text": [
      "Processing 002150\n",
      " \n",
      "Remote end closed connection without response\n",
      "获取年报地址失败:002150\n",
      " **************************************************\n",
      "Processing 000848\n",
      " \n",
      "Remote end closed connection without response\n",
      "获取年报地址失败:000848\n",
      ", retrying..\n",
      "Processing 000848\n",
      " \n",
      "Remote end closed connection without response\n",
      "获取年报地址失败:000848\n",
      ", retrying..\n",
      "Processing 000848\n",
      " \n",
      "Remote end closed connection without response\n",
      "获取年报地址失败:000848\n",
      ", retrying..\n"
     ]
    },
    {
     "name": "stderr",
     "output_type": "stream",
     "text": [
      "\r",
      " 59%|█████▉    | 22/37 [03:01<02:03,  8.26s/it]"
     ]
    },
    {
     "name": "stdout",
     "output_type": "stream",
     "text": [
      "Processing 000848\n",
      " \n",
      "Remote end closed connection without response\n",
      "获取年报地址失败:000848\n",
      " **************************************************\n",
      "Processing 002250\n",
      " \n",
      "Remote end closed connection without response\n",
      "获取年报地址失败:002250\n",
      ", retrying..\n",
      "Processing 002250\n",
      " \n",
      "Remote end closed connection without response\n",
      "获取年报地址失败:002250\n",
      ", retrying..\n",
      "Processing 002250\n",
      " \n",
      "Remote end closed connection without response\n",
      "获取年报地址失败:002250\n",
      ", retrying..\n"
     ]
    },
    {
     "name": "stderr",
     "output_type": "stream",
     "text": [
      "\r",
      " 62%|██████▏   | 23/37 [03:09<01:55,  8.26s/it]"
     ]
    },
    {
     "name": "stdout",
     "output_type": "stream",
     "text": [
      "Processing 002250\n",
      " \n",
      "Remote end closed connection without response\n",
      "获取年报地址失败:002250\n",
      " **************************************************\n",
      "Processing 002118\n",
      " \n",
      "Remote end closed connection without response\n",
      "获取年报地址失败:002118\n",
      ", retrying..\n",
      "Processing 002118\n",
      " \n",
      "Remote end closed connection without response\n",
      "获取年报地址失败:002118\n",
      ", retrying..\n",
      "Processing 002118\n",
      " \n",
      "Remote end closed connection without response\n",
      "获取年报地址失败:002118\n",
      ", retrying..\n"
     ]
    },
    {
     "name": "stderr",
     "output_type": "stream",
     "text": [
      "\r",
      " 65%|██████▍   | 24/37 [03:18<01:47,  8.26s/it]"
     ]
    },
    {
     "name": "stdout",
     "output_type": "stream",
     "text": [
      "Processing 002118\n",
      " \n",
      "Remote end closed connection without response\n",
      "获取年报地址失败:002118\n",
      " **************************************************\n",
      "Processing 000803\n",
      " \n",
      "Remote end closed connection without response\n",
      "获取年报地址失败:000803\n",
      ", retrying..\n",
      "Processing 000803\n",
      " \n",
      "Remote end closed connection without response\n",
      "获取年报地址失败:000803\n",
      ", retrying..\n",
      "Processing 000803\n",
      " \n",
      "Remote end closed connection without response\n",
      "获取年报地址失败:000803\n",
      ", retrying..\n"
     ]
    },
    {
     "name": "stderr",
     "output_type": "stream",
     "text": [
      "\r",
      " 68%|██████▊   | 25/37 [03:26<01:39,  8.26s/it]"
     ]
    },
    {
     "name": "stdout",
     "output_type": "stream",
     "text": [
      "Processing 000803\n",
      " \n",
      "Remote end closed connection without response\n",
      "获取年报地址失败:000803\n",
      " **************************************************\n",
      "Processing 600555\n",
      " \n",
      "Remote end closed connection without response\n",
      "获取年报地址失败:600555\n",
      ", retrying..\n",
      "Processing 600555\n",
      " \n",
      "Remote end closed connection without response\n",
      "获取年报地址失败:600555\n",
      ", retrying..\n",
      "Processing 600555\n",
      " \n",
      "Remote end closed connection without response\n",
      "获取年报地址失败:600555\n",
      ", retrying..\n"
     ]
    },
    {
     "name": "stderr",
     "output_type": "stream",
     "text": [
      "\r",
      " 70%|███████   | 26/37 [03:34<01:30,  8.25s/it]"
     ]
    },
    {
     "name": "stdout",
     "output_type": "stream",
     "text": [
      "Processing 600555\n",
      " \n",
      "Remote end closed connection without response\n",
      "获取年报地址失败:600555\n",
      " **************************************************\n",
      "Processing 002493\n",
      " \n",
      "Remote end closed connection without response\n",
      "获取年报地址失败:002493\n",
      ", retrying..\n",
      "Processing 002493\n",
      " \n",
      "Remote end closed connection without response\n",
      "获取年报地址失败:002493\n",
      ", retrying..\n",
      "Processing 002493\n",
      " \n",
      "Remote end closed connection without response\n",
      "获取年报地址失败:002493\n",
      ", retrying..\n"
     ]
    },
    {
     "name": "stderr",
     "output_type": "stream",
     "text": [
      "\r",
      " 73%|███████▎  | 27/37 [03:42<01:22,  8.25s/it]"
     ]
    },
    {
     "name": "stdout",
     "output_type": "stream",
     "text": [
      "Processing 002493\n",
      " \n",
      "Remote end closed connection without response\n",
      "获取年报地址失败:002493\n",
      " **************************************************\n",
      "Processing 900948\n",
      " \n",
      "Remote end closed connection without response\n",
      "获取年报地址失败:900948\n",
      ", retrying..\n",
      "Processing 900948\n",
      " \n",
      "Remote end closed connection without response\n",
      "获取年报地址失败:900948\n",
      ", retrying..\n",
      "Processing 900948\n",
      " \n",
      "Remote end closed connection without response\n",
      "获取年报地址失败:900948\n",
      ", retrying..\n"
     ]
    },
    {
     "name": "stderr",
     "output_type": "stream",
     "text": [
      "\r",
      " 76%|███████▌  | 28/37 [03:51<01:14,  8.25s/it]"
     ]
    },
    {
     "name": "stdout",
     "output_type": "stream",
     "text": [
      "Processing 900948\n",
      " \n",
      "Remote end closed connection without response\n",
      "获取年报地址失败:900948\n",
      " **************************************************\n",
      "Processing 600478\n",
      " \n",
      "Remote end closed connection without response\n",
      "获取年报地址失败:600478\n",
      ", retrying..\n",
      "Processing 600478\n",
      " \n",
      "Remote end closed connection without response\n",
      "获取年报地址失败:600478\n",
      ", retrying..\n",
      "Processing 600478\n",
      " \n",
      "Remote end closed connection without response\n",
      "获取年报地址失败:600478\n",
      ", retrying..\n"
     ]
    },
    {
     "name": "stderr",
     "output_type": "stream",
     "text": [
      "\r",
      " 78%|███████▊  | 29/37 [03:59<01:06,  8.25s/it]"
     ]
    },
    {
     "name": "stdout",
     "output_type": "stream",
     "text": [
      "Processing 600478\n",
      " \n",
      "Remote end closed connection without response\n",
      "获取年报地址失败:600478\n",
      " **************************************************\n",
      "Processing 900957\n",
      " \n",
      "Remote end closed connection without response\n",
      "获取年报地址失败:900957\n",
      ", retrying..\n",
      "Processing 900957\n",
      " \n",
      "Remote end closed connection without response\n",
      "获取年报地址失败:900957\n",
      ", retrying..\n",
      "Processing 900957\n",
      " \n",
      "Remote end closed connection without response\n",
      "获取年报地址失败:900957\n",
      ", retrying..\n"
     ]
    },
    {
     "name": "stderr",
     "output_type": "stream",
     "text": [
      "\r",
      " 81%|████████  | 30/37 [04:07<00:57,  8.25s/it]"
     ]
    },
    {
     "name": "stdout",
     "output_type": "stream",
     "text": [
      "Processing 900957\n",
      " \n",
      "Remote end closed connection without response\n",
      "获取年报地址失败:900957\n",
      " **************************************************\n",
      "Processing 002568\n",
      " \n",
      "Remote end closed connection without response\n",
      "获取年报地址失败:002568\n",
      ", retrying..\n",
      "Processing 002568\n",
      " \n",
      "Remote end closed connection without response\n",
      "获取年报地址失败:002568\n",
      ", retrying..\n",
      "Processing 002568\n",
      " \n",
      "Remote end closed connection without response\n",
      "获取年报地址失败:002568\n",
      ", retrying..\n"
     ]
    },
    {
     "name": "stderr",
     "output_type": "stream",
     "text": [
      "\r",
      " 84%|████████▍ | 31/37 [04:15<00:49,  8.25s/it]"
     ]
    },
    {
     "name": "stdout",
     "output_type": "stream",
     "text": [
      "Processing 002568\n",
      " \n",
      "Remote end closed connection without response\n",
      "获取年报地址失败:002568\n",
      " **************************************************\n",
      "Processing 002569\n",
      " \n",
      "Remote end closed connection without response\n",
      "获取年报地址失败:002569\n",
      ", retrying..\n",
      "Processing 002569\n",
      " \n",
      "Remote end closed connection without response\n",
      "获取年报地址失败:002569\n",
      ", retrying..\n",
      "Processing 002569\n",
      " \n",
      "Remote end closed connection without response\n",
      "获取年报地址失败:002569\n",
      ", retrying..\n"
     ]
    },
    {
     "name": "stderr",
     "output_type": "stream",
     "text": [
      "\r",
      " 86%|████████▋ | 32/37 [04:24<00:41,  8.25s/it]"
     ]
    },
    {
     "name": "stdout",
     "output_type": "stream",
     "text": [
      "Processing 002569\n",
      " \n",
      "Remote end closed connection without response\n",
      "获取年报地址失败:002569\n",
      " **************************************************\n",
      "Processing 300168\n",
      " \n",
      "Remote end closed connection without response\n",
      "获取年报地址失败:300168\n",
      ", retrying..\n",
      "Processing 300168\n",
      " \n",
      "Remote end closed connection without response\n",
      "获取年报地址失败:300168\n",
      ", retrying..\n",
      "Processing 300168\n",
      " \n",
      "Remote end closed connection without response\n",
      "获取年报地址失败:300168\n",
      ", retrying..\n"
     ]
    },
    {
     "name": "stderr",
     "output_type": "stream",
     "text": [
      "\r",
      " 89%|████████▉ | 33/37 [04:32<00:32,  8.25s/it]"
     ]
    },
    {
     "name": "stdout",
     "output_type": "stream",
     "text": [
      "Processing 300168\n",
      " \n",
      "Remote end closed connection without response\n",
      "获取年报地址失败:300168\n",
      " **************************************************\n",
      "Processing 002479\n",
      " \n",
      "Remote end closed connection without response\n",
      "获取年报地址失败:002479\n",
      ", retrying..\n",
      "Processing 002479\n",
      " \n",
      "Remote end closed connection without response\n",
      "获取年报地址失败:002479\n",
      ", retrying..\n",
      "Processing 002479\n",
      " \n",
      "Remote end closed connection without response\n",
      "获取年报地址失败:002479\n",
      ", retrying..\n"
     ]
    },
    {
     "name": "stderr",
     "output_type": "stream",
     "text": [
      "\r",
      " 92%|█████████▏| 34/37 [04:40<00:24,  8.25s/it]"
     ]
    },
    {
     "name": "stdout",
     "output_type": "stream",
     "text": [
      "Processing 002479\n",
      " \n",
      "Remote end closed connection without response\n",
      "获取年报地址失败:002479\n",
      " **************************************************\n",
      "Processing 002406\n",
      " \n",
      "Remote end closed connection without response\n",
      "获取年报地址失败:002406\n",
      ", retrying..\n",
      "Processing 002406\n",
      " \n",
      "Remote end closed connection without response\n",
      "获取年报地址失败:002406\n",
      ", retrying..\n",
      "Processing 002406\n",
      " \n",
      "Remote end closed connection without response\n",
      "获取年报地址失败:002406\n",
      ", retrying..\n"
     ]
    },
    {
     "name": "stderr",
     "output_type": "stream",
     "text": [
      "\r",
      " 95%|█████████▍| 35/37 [04:48<00:16,  8.25s/it]"
     ]
    },
    {
     "name": "stdout",
     "output_type": "stream",
     "text": [
      "Processing 002406\n",
      " \n",
      "Remote end closed connection without response\n",
      "获取年报地址失败:002406\n",
      " **************************************************\n",
      "Processing 000668\n",
      " \n",
      "Remote end closed connection without response\n",
      "获取年报地址失败:000668\n",
      ", retrying..\n",
      "Processing 000668\n",
      " \n",
      "Remote end closed connection without response\n",
      "获取年报地址失败:000668\n",
      ", retrying..\n",
      "Processing 000668\n",
      " \n",
      "Remote end closed connection without response\n",
      "获取年报地址失败:000668\n",
      ", retrying..\n"
     ]
    },
    {
     "name": "stderr",
     "output_type": "stream",
     "text": [
      "\r",
      " 97%|█████████▋| 36/37 [04:56<00:08,  8.25s/it]"
     ]
    },
    {
     "name": "stdout",
     "output_type": "stream",
     "text": [
      "Processing 000668\n",
      " \n",
      "Remote end closed connection without response\n",
      "获取年报地址失败:000668\n",
      " **************************************************\n",
      "Processing 300427\n",
      " \n",
      "Remote end closed connection without response\n",
      "获取年报地址失败:300427\n",
      ", retrying..\n",
      "Processing 300427\n",
      " \n",
      "Remote end closed connection without response\n",
      "获取年报地址失败:300427\n",
      ", retrying..\n",
      "Processing 300427\n",
      " \n",
      "Remote end closed connection without response\n",
      "获取年报地址失败:300427\n",
      ", retrying..\n"
     ]
    },
    {
     "name": "stderr",
     "output_type": "stream",
     "text": [
      "\r",
      "100%|██████████| 37/37 [05:05<00:00,  8.25s/it]"
     ]
    },
    {
     "name": "stdout",
     "output_type": "stream",
     "text": [
      "Processing 300427\n",
      " \n",
      "Remote end closed connection without response\n",
      "获取年报地址失败:300427\n",
      " **************************************************\n"
     ]
    },
    {
     "name": "stderr",
     "output_type": "stream",
     "text": [
      "\n"
     ]
    }
   ],
   "source": [
    "\n",
    "col=df1.iloc[:,0]\n",
    "#取表中的第3列的所有值\n",
    "arrs=col.values\n",
    "#输出结果\n",
    "ids = list(set(arrs))\n",
    "import os\n",
    "import time\n",
    "counter=0\n",
    "for i in tqdm(ids):\n",
    "    reports = getTitle(i)\n",
    "    retry = 0\n",
    "    while not reports and retry<3:\n",
    "        print(f\"获取年报地址失败:{i}, retrying..\")\n",
    "        time.sleep(1+1*retry*retry)\n",
    "        reports = getTitle(i)\n",
    "        retry += 1\n",
    "\n",
    "    if not reports:\n",
    "        print(f\"获取年报地址失败:{i}\",'*'*50)\n",
    "        with open('error.txt','a') as f2:\n",
    "            f2.write(f'{i}\\n')\n",
    "            f2.close()\n",
    "        continue\n",
    "    for (f,url) in reports.items():\n",
    "        file = f\"scraping/content/{f}.txt\"\n",
    "        if os.path.exists(file):\n",
    "            continue\n",
    "        content = readContent(url)\n",
    "        retry = 0\n",
    "        while not content and retry<3:\n",
    "            print(f\"获取年报地址失败:{i}, retrying..\")\n",
    "            time.sleep(0.1+0.5*retry*retry)\n",
    "            content = readContent(url)\n",
    "            retry += 1\n",
    "        if not content:\n",
    "            print( f\"下载文件失败:{url}\")\n",
    "            continue\n",
    "        \n",
    "        print(f\"下载文件成功:{url}\")\n",
    "        with open(file,'w') as f:\n",
    "            counter += 1\n",
    "            f.write(content)\n",
    "        \n",
    "        if counter %100 ==0:\n",
    "            print('*'*80)\n",
    "            print('下载文件数',counter)\n",
    "            print('*'*80)\n",
    "\n",
    "        \n",
    "\n",
    "        "
   ]
  },
  {
   "cell_type": "code",
   "execution_count": 14,
   "metadata": {},
   "outputs": [
    {
     "name": "stdout",
     "output_type": "stream",
     "text": [
      "{'Stkcd': '000004', 'Reptdt': '2003-12-31', 'Stknme': '北大高科'}\n"
     ]
    }
   ],
   "source": [
    "df2 = df1[['Stkcd','Reptdt','Stknme']] \n",
    "df2\n",
    "data = df2.to_dict('records')\n",
    "print(data[0])"
   ]
  },
  {
   "cell_type": "code",
   "execution_count": null,
   "metadata": {
    "collapsed": true
   },
   "outputs": [],
   "source": []
  }
 ],
 "metadata": {
  "kernelspec": {
   "display_name": "Python 3",
   "language": "python",
   "name": "python3"
  },
  "language_info": {
   "codemirror_mode": {
    "name": "ipython",
    "version": 3
   },
   "file_extension": ".py",
   "mimetype": "text/x-python",
   "name": "python",
   "nbconvert_exporter": "python",
   "pygments_lexer": "ipython3",
   "version": "3.6.1"
  }
 },
 "nbformat": 4,
 "nbformat_minor": 2
}
